{
 "cells": [
  {
   "cell_type": "code",
   "execution_count": 1,
   "metadata": {
    "collapsed": true
   },
   "outputs": [],
   "source": [
    "import numpy as np\n",
    "import matplotlib.pyplot as plt\n",
    "import galpy as gp\n",
    "from galpy.orbit import Orbit\n",
    "from galpy.potential import *\n",
    "from astropy import units as u\n",
    "from copy import deepcopy\n",
    "import wurlitzer\n",
    "from galpy.util import bovy_conversion\n",
    "import matplotlib as mpl\n",
    "from scipy import stats\n",
    "from matplotlib.colors import LinearSegmentedColormap\n",
    "import pickle"
   ]
  },
  {
   "cell_type": "code",
   "execution_count": 2,
   "metadata": {},
   "outputs": [],
   "source": [
    "%load_ext wurlitzer"
   ]
  },
  {
   "cell_type": "code",
   "execution_count": 3,
   "metadata": {
    "collapsed": true
   },
   "outputs": [],
   "source": [
    "%matplotlib nbagg"
   ]
  },
  {
   "cell_type": "markdown",
   "metadata": {},
   "source": [
    "# Define all dwarf galaxies"
   ]
  },
  {
   "cell_type": "code",
   "execution_count": 4,
   "metadata": {
    "collapsed": true
   },
   "outputs": [],
   "source": [
    "ts = np.linspace(0., -12/bovy_conversion.time_in_Gyr(ro=8.,vo=220.), 1201)\n",
    "dt = (ts[1]-ts[0])/250\n",
    "\n",
    "# SAGITTARIUS\n",
    "sgr_M = 1.4E10*u.Msun\n",
    "sgr_a = 7*u.kpc # 6.5kpc from https://arxiv.org/pdf/1608.04743.pdf\n",
    "sgr_pot = HernquistPotential(amp=sgr_M, a=sgr_a, ro=8., vo=220.)\n",
    "sgr_orbit = Orbit(vxvv=[283.8313, -30.5453, 26.67, -2.692, -1.359, 140], radec=True, ro=8.,vo=220.) \n",
    "sgr_orbit.integrate(ts, MWPotential2014, dt=dt)\n",
    "sgr_potential = MovingObjectPotential(sgr_orbit, pot=sgr_pot)\n",
    "\n",
    "# LMC\n",
    "lmc_M = 1E11*u.Msun # https://arxiv.org/pdf/1608.04743.pdf\n",
    "lmc_a = 10.2*u.kpc  # https://iopscience.iop.org/article/10.1088/2041-8205/721/2/L97/pdf\n",
    "lmc_pot = HernquistPotential(amp=lmc_M, a=lmc_a, ro=8., vo=220.)\n",
    "lmc_orbit = Orbit(vxvv=[78.77, -69.01, 50.1, 1.850, 0.234, 262.2], radec=True, ro=8.,vo=220.) \n",
    "lmc_orbit.integrate(ts, MWPotential2014, dt=dt)\n",
    "lmc_potential = MovingObjectPotential(lmc_orbit, pot=lmc_pot)\n",
    "\n",
    "# SMC\n",
    "smc_M = 2.6E10*u.Msun # https://iopscience.iop.org/article/10.1088/2041-8205/721/2/L97/pdf\n",
    "smc_a = 3.6*u.kpc     # https://iopscience.iop.org/article/10.1088/2041-8205/721/2/L97/pdf\n",
    "smc_pot = HernquistPotential(amp=smc_M, a=smc_a, ro=8., vo=220.)\n",
    "smc_orbit = Orbit(vxvv=[16.26, -72.42, 62.8, 0.797, -1.220, 145.6], radec=True, ro=8.,vo=220.) \n",
    "smc_orbit.integrate(ts, MWPotential2014, dt=dt)\n",
    "smc_potential = MovingObjectPotential(smc_orbit, pot=smc_pot)\n",
    "\n",
    "# FORNAX\n",
    "fnx_M = 2E9*u.Msun # https://academic.oup.com/mnras/article/368/3/1073/1022509\n",
    "fnx_a = 3.4*u.kpc  # https://academic.oup.com/mnras/article-pdf/368/3/1073/18665310/mnras0368-1073.pdf\n",
    "fnx_pot = HernquistPotential(amp=fnx_M, a=fnx_a)\n",
    "fnx_orbit = Orbit(vxvv=[39.962, -34.511, 139.3, 0.374, -0.401, 55.3], radec=True, ro=8.,vo=220.) \n",
    "fnx_orbit.integrate(ts, MWPotential2014, dt=dt)\n",
    "fnx_potential = MovingObjectPotential(fnx_orbit, pot=fnx_pot)\n",
    "\n",
    "# DRACO\n",
    "dra_M = 6.3E9*u.Msun # https://iopscience.iop.org/article/10.1086/521543/pdf\n",
    "dra_a = 7*u.kpc # https://iopscience.iop.org/article/10.1086/521543/pdf\n",
    "dra_pot = HernquistPotential(amp=dra_M, a=dra_a)\n",
    "dra_orbit = Orbit(vxvv=[260.06, 57.965, 79.07, -0.012, -0.158, -291], radec=True, ro=8.,vo=220.) \n",
    "dra_orbit.integrate(ts, MWPotential2014, dt=dt)\n",
    "dra_potential = MovingObjectPotential(dra_orbit, pot=dra_pot)\n",
    "\n",
    "# URSA MINOR\n",
    "umi_M = 2.5E9*u.Msun # https://iopscience.iop.org/article/10.1086/521543/pdf\n",
    "umi_a = 5.4*u.kpc    # https://iopscience.iop.org/article/10.1086/521543/pdf\n",
    "umi_pot = HernquistPotential(amp=umi_M, a=umi_a)\n",
    "umi_orbit = Orbit(vxvv=[227.242, 67.222, 75.86, -0.184, 0.082, -246.9], radec=True, ro=8.,vo=220.) \n",
    "umi_orbit.integrate(ts, MWPotential2014, dt=dt)\n",
    "umi_potential = MovingObjectPotential(umi_orbit, pot=umi_pot)\n",
    "\n",
    "satellites_pot = [sgr_potential, lmc_potential, smc_potential, fnx_potential, dra_potential, umi_potential]\n",
    "total_pot = [sgr_potential, lmc_potential, smc_potential, fnx_potential, dra_potential, umi_potential, MWPotential2014]"
   ]
  },
  {
   "cell_type": "markdown",
   "metadata": {},
   "source": [
    "# Define ClusterArray object"
   ]
  },
  {
   "cell_type": "code",
   "execution_count": 5,
   "metadata": {
    "collapsed": true
   },
   "outputs": [],
   "source": [
    "class ClusterArray:\n",
    "    def __init__(self, time=-12., steps=1000, include_Sgr=False, method='symplec4_c'):\n",
    "        self.time = time\n",
    "        self.steps = steps\n",
    "        self.include_Sgr = include_Sgr\n",
    "        self.method = method\n",
    "        self.clusters = []\n",
    "        self.vxvvs = []\n",
    "        self.names = []\n",
    "        if include_Sgr:\n",
    "            self.potential = total_pot\n",
    "        else:\n",
    "            self.potential = MWPotential2014\n",
    "    \n",
    "    def load_from_names(self, names):\n",
    "        self.names = names\n",
    "        self.orbits = Orbit.from_name(names, solarmotion=[-11.1,24.,7.25])\n",
    "        self.vxvvs = self.orbits.vxvv\n",
    "        self.ctrl_orbits = Orbit.from_name(names, solarmotion=[-11.1,24.,7.25])\n",
    "        self.integrate_orbits()\n",
    "    \n",
    "    def integrate_orbits(self):\n",
    "        # Integrate orbit and save values\n",
    "        ts=np.linspace(0, self.time/bovy_conversion.time_in_Gyr(ro=8.,vo=220.), self.steps)\n",
    "        self.orbits.integrate(ts, self.potential, method=self.method, dt=dt)\n",
    "        self.ctrl_orbits.integrate(ts, MWPotential2014, method=self.method, dt=dt)\n",
    "    \n",
    "    def get_rs(self, times=np.array([0])):\n",
    "        o = self.orbits.getOrbit()\n",
    "        index = abs(times/self.time*self.steps)\n",
    "        index = index.astype(int)\n",
    "        pars = o[:, index]\n",
    "        new_orbit = Orbit(vxvv=pars, ro=8.,vo=220., solarmotion=[-11.1,24.,7.25])\n",
    "        ts=np.linspace(0,-12.,self.steps)*u.Gyr # Gyr\n",
    "        potential = deepcopy(total_pot)\n",
    "        new_orbit.integrate(ts, potential, dt=dt)\n",
    "        bovy_t = times/bovy_conversion.time_in_Gyr(ro=8, vo=220)\n",
    "        times = np.linspace(0, -3./bovy_conversion.time_in_Gyr(ro=8.,vo=220.), self.steps)\n",
    "        return np.array([new_orbit.R(t) for t in times])\n",
    "    \n",
    "    def get_orbits(self, times=np.array([0]), ctrl=False):\n",
    "        o = self.ctrl_orbits.getOrbit() if ctrl else self.orbits.getOrbit()\n",
    "\n",
    "        index = abs(times/self.time*self.steps)\n",
    "        index = index.astype(int)\n",
    "        pars = o[:, index]\n",
    "        new_orbit = Orbit(vxvv=pars, ro=8.,vo=220., solarmotion=[-11.1,24.,7.25])\n",
    "        #ts=np.linspace(0,-6.,self.steps)*u.Gyr # Gyr\n",
    "        #new_orbit.integrate(ts, self.potential)\n",
    "        return new_orbit"
   ]
  },
  {
   "cell_type": "markdown",
   "metadata": {},
   "source": [
    "# Load objects and get orbits"
   ]
  },
  {
   "cell_type": "code",
   "execution_count": 6,
   "metadata": {
    "collapsed": true
   },
   "outputs": [],
   "source": [
    "t_max = -12.\n",
    "times = np.array([0, -1, -2, -3, -4, -5, -6, -7, -8, -9, -10, -11, -11.999])\n",
    "n_steps = 1201"
   ]
  },
  {
   "cell_type": "code",
   "execution_count": 7,
   "metadata": {
    "collapsed": true
   },
   "outputs": [],
   "source": [
    "names = [\"ngc104\", \"ngc288\", \"ngc362\", \"whiting1\", \"ngc1261\", \"pal1\", \"e1\", \"eridanus\", \"pal2\", \"ngc1851\", \"ngc1904\", \"ngc2298\", \"ngc2419\", \"pyxis\", \"ngc2808\", \"e3\", \"pal3\", \"ngc3201\", \"pal4\", \"crater\", \"ngc4147\", \"ngc4372\", \"rup106\", \"ngc4590\", \"ngc4833\", \"ngc5024\", \"ngc5053\", \"ngc5139\", \"ngc5272\", \"ngc5286\", \"ngc5466\", \"ngc5634\", \"ngc5694\", \"ic4499\", \"ngc5824\", \"pal5\", \"ngc5897\", \"ngc5904\", \"ngc5927\", \"ngc5946\", \"bh176\", \"ngc5986\", \"fsr1716\", \"pal14\", \"bh184\", \"ngc6093\", \"ngc6121\", \"ngc6101\", \"ngc6144\", \"ngc6139\", \"terzan3\", \"ngc6171\", \"eso452-11\", \"ngc6205\", \"ngc6229\", \"ngc6218\", \"fsr1735\", \"ngc6235\", \"ngc6254\", \"ngc6256\", \"pal15\", \"ngc6266\", \"ngc6273\", \"ngc6284\", \"ngc6287\", \"ngc6293\", \"ngc6304\", \"ngc6316\", \"ngc6341\", \"ngc6325\", \"ngc6333\", \"ngc6342\", \"ngc6356\", \"ngc6355\", \"ngc6352\", \"ic1257\", \"terzan2\", \"ngc6366\", \"terzan4\", \"bh229\", \"ngc6362\", \"ngc6380\", \"terzan1\", \"ton2\", \"ngc6388\", \"ngc6402\", \"ngc6401\", \"ngc6397\", \"pal6\", \"ngc6426\", \"djorg1\", \"terzan5\", \"ngc6440\", \"ngc6441\", \"terzan6\", \"ngc6453\", \"ngc6496\", \"terzan9\", \"djorg2\", \"ngc6517\", \"terzan10\", \"ngc6522\", \"ngc6535\", \"ngc6528\", \"ngc6539\", \"ngc6540\", \"ngc6544\", \"ngc6541\", \"eso280-06\", \"ngc6553\", \"ngc6558\", \"pal7\", \"terzan12\", \"ngc6569\", \"bh261\", \"ngc6584\", \"ngc6624\", \"ngc6626\", \"ngc6638\", \"ngc6637\", \"ngc6642\", \"ngc6652\", \"ngc6656\", \"pal8\", \"ngc6681\", \"ngc6712\", \"ngc6715\", \"ngc6717\", \"ngc6723\", \"ngc6749\", \"ngc6752\", \"ngc6760\", \"ngc6779\", \"terzan7\", \"pal10\", \"arp2\", \"ngc6809\", \"terzan8\", \"pal11\", \"ngc6838\", \"ngc6864\", \"ngc6934\", \"ngc6981\", \"ngc7006\", \"ngc7078\", \"ngc7089\", \"ngc7099\", \"pal12\", \"pal13\", \"ngc7492\"]"
   ]
  },
  {
   "cell_type": "code",
   "execution_count": null,
   "metadata": {
    "collapsed": true
   },
   "outputs": [],
   "source": [
    "ca = ClusterArray(include_Sgr=True, time=t_max, steps=n_steps)\n",
    "ca_ctrl = ClusterArray(include_Sgr=False, time=t_max, steps=n_steps)\n",
    "ca.load_from_names(names)\n",
    "ca_ctrl.load_from_names(names)"
   ]
  },
  {
   "cell_type": "markdown",
   "metadata": {},
   "source": [
    "# Pickle the ClusterArrays\n",
    "Integrating the orbits takes a while, so pickle them"
   ]
  },
  {
   "cell_type": "code",
   "execution_count": null,
   "metadata": {},
   "outputs": [],
   "source": [
    "with open('ca.pickle', 'wb') as handle:\n",
    "    pickle.dump(ca, handle, protocol=pickle.HIGHEST_PROTOCOL)\n",
    "with open('ca_ctrl.pickle', 'wb') as handle:\n",
    "    pickle.dump(ca_ctrl, handle, protocol=pickle.HIGHEST_PROTOCOL)"
   ]
  },
  {
   "cell_type": "markdown",
   "metadata": {},
   "source": [
    "# Load the ClusterArrays from pickles"
   ]
  },
  {
   "cell_type": "code",
   "execution_count": null,
   "metadata": {},
   "outputs": [],
   "source": [
    "with open('ca.pickle', 'rb') as handle:\n",
    "    ca = pickle.load(handle)\n",
    "with open('ca_ctrl.pickle', 'rb') as handle:\n",
    "    ca_ctrl = pickle.load(handle)"
   ]
  },
  {
   "cell_type": "markdown",
   "metadata": {},
   "source": [
    "# Get orbits at timesteps"
   ]
  },
  {
   "cell_type": "code",
   "execution_count": null,
   "metadata": {
    "collapsed": true
   },
   "outputs": [],
   "source": [
    "os = ca.get_orbits(times)\n",
    "os_ctrl = ca_ctrl.get_orbits(times)\n",
    "\n",
    "ca_os = ca.orbits\n",
    "ca_os_ctrl = ca_ctrl.orbits"
   ]
  },
  {
   "cell_type": "markdown",
   "metadata": {},
   "source": [
    "# Classify GCs"
   ]
  },
  {
   "cell_type": "code",
   "execution_count": null,
   "metadata": {
    "collapsed": true
   },
   "outputs": [],
   "source": [
    "def classify(os):\n",
    "    classes = ['' for i in range(len(os))]\n",
    "    for i in range(len(os)):\n",
    "        if os[i, 0].rap(pot=MWPotential2014, analytic=True) < 3.5:\n",
    "            classes[i] = 'bulge'\n",
    "        elif os[i, 0].zmax(pot=MWPotential2014, analytic=True) < 5:\n",
    "            classes[i] = \"disk\"\n",
    "        else:\n",
    "            classes[i] = \"halo\"\n",
    "    return classes"
   ]
  },
  {
   "cell_type": "code",
   "execution_count": null,
   "metadata": {},
   "outputs": [],
   "source": [
    "classes = classify(os)"
   ]
  },
  {
   "cell_type": "markdown",
   "metadata": {},
   "source": [
    "# Plot eccentricity difference"
   ]
  },
  {
   "cell_type": "code",
   "execution_count": null,
   "metadata": {
    "collapsed": true
   },
   "outputs": [],
   "source": [
    "e_0 = os_ctrl[:, 0].e(pot=MWPotential2014, analytic=True)\n",
    "e_f = os_ctrl[:, -1].e(pot=MWPotential2014, analytic=True)"
   ]
  },
  {
   "cell_type": "code",
   "execution_count": null,
   "metadata": {},
   "outputs": [],
   "source": [
    "fig, ax = plt.subplots()\n",
    "for ind in range(len(os)):\n",
    "    if classes[ind] == 'bulge':\n",
    "        ax.plot(e_0[ind], e_f[ind], 'o', color='b', label='bulge')\n",
    "    elif classes[ind] == 'disk':\n",
    "        ax.plot(e_0[ind], e_f[ind], 'o', color='r', label='disk')\n",
    "    elif classes[ind] == 'halo':\n",
    "        ax.plot(e_0[ind], e_f[ind], 'o', color='g', label='halo')\n",
    "\n",
    "ax.set_xlabel(\"Eccentricity at t=0\")\n",
    "ax.set_ylabel(\"Eccentricity at t=-12\")\n",
    "ax.plot([0, 1.1], [0, 1.1], 'k--')\n",
    "ax.set_xlim([0, 1.1])\n",
    "ax.set_ylim([0, 1.1])\n",
    "plt.show()"
   ]
  },
  {
   "cell_type": "markdown",
   "metadata": {},
   "source": [
    "# Plot tidal radius difference"
   ]
  },
  {
   "cell_type": "code",
   "execution_count": null,
   "metadata": {},
   "outputs": [],
   "source": [
    "# rt = gp.potential.rtide(MWPotential2014, R=os.R(), z=os.z(), phi=os.phi(), M=10E5*u.Msun)*8\n",
    "rt_0 = gp.potential.rtide(MWPotential2014, R=ca_os_ctrl.R(0), z=ca_os_ctrl.z(0), phi=ca_os_ctrl.phi(0), M=1E6*u.Msun)\n",
    "rt_f = gp.potential.rtide(MWPotential2014, R=ca_os_ctrl.R(-12*u.Gyr), z=ca_os_ctrl.z(-12*u.Gyr), phi=ca_os_ctrl.phi(-12*u.Gyr), M=1E6*u.Msun)"
   ]
  },
  {
   "cell_type": "code",
   "execution_count": null,
   "metadata": {},
   "outputs": [],
   "source": [
    "fig, ax = plt.subplots()\n",
    "for ind in range(len(os)):\n",
    "    if classes[ind] == 'bulge':\n",
    "        ax.plot(rt_0[ind], rt_f[ind], 'o', color='b', label='bulge')\n",
    "    elif classes[ind] == 'disk':\n",
    "        ax.plot(rt_0[ind], rt_f[ind], 'o', color='r', label='disk')\n",
    "    elif classes[ind] == 'halo':\n",
    "        ax.plot(rt_0[ind], rt_f[ind], 'o', color='g', label='halo')\n",
    "\n",
    "ax.set_xlabel(\"$R_{tide}$, t=0\")\n",
    "ax.set_ylabel(\"$R_{tide}$, t=-12\")\n",
    "ax.plot([0, 1.], [0, 1.], 'k--')\n",
    "plt.show()"
   ]
  },
  {
   "cell_type": "markdown",
   "metadata": {},
   "source": [
    "# Plot eccentricity vs semi-major axis for all clusters"
   ]
  },
  {
   "cell_type": "code",
   "execution_count": null,
   "metadata": {},
   "outputs": [],
   "source": [
    "rap = os.rap(analytic=True, pot=MWPotential2014)\n",
    "rperi = os.rperi(analytic=True, pot=MWPotential2014)\n",
    "eccen = (rap-rperi)/(rap+rperi)#os_ctrl.e(analytic=True)\n",
    "\n",
    "for i in range(len(rap)):\n",
    "    x = 0\n",
    "    y = 0\n",
    "    for j in range(len(rap[0])):\n",
    "        if not np.isinf(rap[i][j]):\n",
    "            x = rap[i][j]\n",
    "        else:\n",
    "            rap[i][j] = x\n",
    "        if not np.isneginf(rperi[i][j]):\n",
    "            y = rperi[i][j]\n",
    "        else:\n",
    "            rperi[i][j] = y\n",
    "a = (rap+rperi)/2.\n",
    "loga = np.log10(a)"
   ]
  },
  {
   "cell_type": "code",
   "execution_count": null,
   "metadata": {
    "collapsed": true,
    "scrolled": true
   },
   "outputs": [],
   "source": [
    "rt_diff = rt_0-rt_f\n",
    "rt_diff_norm = (rt_diff-min(rt_diff))/(max(rt_diff)-min(rt_diff))"
   ]
  },
  {
   "cell_type": "code",
   "execution_count": null,
   "metadata": {
    "collapsed": true
   },
   "outputs": [],
   "source": [
    "name_choices = [\"ngc104\", \"ngc288\", \"ngc362\", \"whiting1\", \"ngc1261\", \"pal1\", \"e1\", \"eridanus\", \"pal2\", \"ngc1851\", \"ngc1904\", \"ngc2298\", \"ngc2419\", \"pyxis\", \"ngc2808\", \"e3\", \"pal3\", \"ngc3201\", \"pal4\", \"crater\", \"ngc4147\", \"ngc4372\", \"rup106\", \"ngc4590\", \"ngc4833\", \"ngc5024\", \"ngc5053\", \"ngc5139\", \"ngc5272\", \"ngc5286\", \"ngc5466\", \"ngc5634\", \"ngc5694\", \"ic4499\", \"ngc5824\", \"pal5\", \"ngc5897\", \"ngc5904\", \"ngc5927\", \"ngc5946\", \"bh176\", \"ngc5986\", \"fsr1716\", \"pal14\", \"bh184\", \"ngc6093\", \"ngc6121\", \"ngc6101\", \"ngc6144\", \"ngc6139\", \"terzan3\", \"ngc6171\", \"eso452-11\", \"ngc6205\", \"ngc6229\", \"ngc6218\", \"fsr1735\", \"ngc6235\", \"ngc6254\", \"ngc6256\", \"pal15\", \"ngc6266\", \"ngc6273\", \"ngc6284\", \"ngc6287\", \"ngc6293\", \"ngc6304\", \"ngc6316\", \"ngc6341\", \"ngc6325\", \"ngc6333\", \"ngc6342\", \"ngc6356\", \"ngc6355\", \"ngc6352\", \"ic1257\", \"terzan2\", \"ngc6366\", \"terzan4\", \"bh229\", \"ngc6362\", \"ngc6380\", \"terzan1\", \"ton2\", \"ngc6388\", \"ngc6402\", \"ngc6401\", \"ngc6397\", \"pal6\", \"ngc6426\", \"djorg1\", \"terzan5\", \"ngc6440\", \"ngc6441\", \"terzan6\", \"ngc6453\", \"ngc6496\", \"terzan9\", \"djorg2\", \"ngc6517\", \"terzan10\", \"ngc6522\", \"ngc6535\", \"ngc6528\", \"ngc6539\", \"ngc6540\", \"ngc6544\", \"ngc6541\", \"eso280-06\", \"ngc6553\", \"ngc6558\", \"pal7\", \"terzan12\", \"ngc6569\", \"bh261\", \"ngc6584\", \"ngc6624\", \"ngc6626\", \"ngc6638\", \"ngc6637\", \"ngc6642\", \"ngc6652\", \"ngc6656\", \"pal8\", \"ngc6681\", \"ngc6712\", \"ngc6715\", \"ngc6717\", \"ngc6723\", \"ngc6749\", \"ngc6752\", \"ngc6760\", \"ngc6779\", \"terzan7\", \"pal10\", \"arp2\", \"ngc6809\", \"terzan8\", \"pal11\", \"ngc6838\", \"ngc6864\", \"ngc6934\", \"ngc6981\", \"ngc7006\", \"ngc7078\", \"ngc7089\", \"ngc7099\", \"pal12\", \"pal13\", \"ngc7492\"]\n",
    "#name_choices = ['eso280-06', \"ngc4590\", \"ngc5466\", \"ngc5824\", \"ngc6712\", \"ngc6838\",\"ngc2298\",\"ngc6218\"]\n",
    "choices = [names.index(i) for i in name_choices]"
   ]
  },
  {
   "cell_type": "code",
   "execution_count": null,
   "metadata": {
    "scrolled": false
   },
   "outputs": [],
   "source": [
    "fig, ax = plt.subplots()\n",
    "\n",
    "plt.plot(np.log10((sgr_orbit.rap()+sgr_orbit.rperi())/2), sgr_orbit.e(), 'x', markersize=9, c='#888888', mew=2)\n",
    "plt.plot(np.log10((lmc_orbit.rap()+lmc_orbit.rperi())/2), lmc_orbit.e(), 'x', markersize=9, c='#888888', mew=2)\n",
    "plt.plot(np.log10((smc_orbit.rap()+smc_orbit.rperi())/2), smc_orbit.e(), 'x', markersize=9, c='#888888', mew=2)\n",
    "plt.plot(np.log10((fnx_orbit.rap()+fnx_orbit.rperi())/2), fnx_orbit.e(), 'x', markersize=9, c='#888888', mew=2)\n",
    "plt.plot(np.log10((dra_orbit.rap()+dra_orbit.rperi())/2), dra_orbit.e(), 'x', markersize=9, c='#888888', mew=2)\n",
    "plt.plot(np.log10((umi_orbit.rap()+umi_orbit.rperi())/2), umi_orbit.e(), 'x', markersize=9, c='#888888', mew=2)\n",
    "\n",
    "cmap = LinearSegmentedColormap.from_list('mycmap', [(0.0, '#3b4cc0'),\n",
    "                                                    (0.1, '#4f69d9'),\n",
    "                                                    (0.3, '#80a3fa'),\n",
    "                                                    (0.5, '#b2ccfb'),\n",
    "                                                    (0.7, '#dcdddd'),\n",
    "                                                    (0.9, '#f6bfa6'),\n",
    "                                                    (1.0, '#f6a385')\n",
    "                                                    ])\n",
    "sc = ax.scatter(loga[:, -1], eccen[:, -1], marker='o', c=rt_diff, cmap=cmap)\n",
    "\n",
    "for ind in choices:\n",
    "    ax.plot(loga[ind, -1], eccen[ind, -1], markersize=11, marker='o', c='r', mfc='none')\n",
    "\n",
    "for ind in range(len(rap)):\n",
    "    c = cmap((rt_diff[ind]-min(rt_diff))/(max(rt_diff)-min(rt_diff)))\n",
    "    ax.arrow(loga[ind, -1], eccen[ind, -1], loga[ind, 0]-loga[ind, -1], eccen[ind, 0]-eccen[ind, -1],\n",
    "             head_width=0.03, \n",
    "             head_length=0.03, \n",
    "             fc=c,\n",
    "             ec=c,\n",
    "             linewidth=0.7)   \n",
    "    \n",
    "ax.set_xlabel(\"$log($semi-major axis$)$\", fontsize=12)\n",
    "ax.set_ylabel(\"Eccentricity\", fontsize=12)\n",
    "ax.tick_params(labelsize=12)\n",
    "cb = plt.colorbar(sc)\n",
    "cb.set_label(\"Change in tidal radius (kpc)\", rotation=270, fontsize=12, labelpad=14)\n",
    "fig.savefig('eccen_loga.png', dpi=600)\n",
    "plt.show()"
   ]
  },
  {
   "cell_type": "markdown",
   "metadata": {},
   "source": [
    "# Plot clusters of choice"
   ]
  },
  {
   "cell_type": "code",
   "execution_count": null,
   "metadata": {
    "scrolled": false
   },
   "outputs": [],
   "source": [
    "fig, ax = plt.subplots()\n",
    "\n",
    "name_choices = [\"ngc288\", \"whiting1\", \"ngc1261\", \"ngc1851\", \"ngc2298\", \"ngc2419\", \"ngc2808\", \"e3\", \"ngc3201\", \"ngc4147\", \"rup106\", \"ngc4590\", \"ngc4833\", \"ngc5024\", \"ngc5053\", \"ngc5139\", \"ngc5272\", \"ngc5286\", \"ngc5466\", \"ngc5634\", \"ngc5694\", \"ic4499\", \"ngc5824\", \"pal5\", \"ngc5897\", \"ngc5904\", \"ngc5946\", \"ngc5986\", \"ngc6093\", \"ngc6121\", \"ngc6101\", \"ngc6144\", \"ngc6139\", \"terzan3\", \"ngc6171\", \"eso452-11\", \"ngc6205\", \"ngc6229\", \"ngc6218\", \"fsr1735\", \"ngc6235\", \"ngc6254\", \"ngc6256\", \"pal15\", \"ngc6266\", \"ngc6273\", \"ngc6284\", \"ngc6287\", \"ngc6293\", \"ngc6316\", \"ngc6325\", \"ngc6333\", \"ngc6342\", \"ngc6356\", \"ngc6355\", \"ic1257\", \"ngc6366\", \"bh229\", \"ngc6362\", \"ngc6380\", \"ton2\", \"ngc6388\", \"ngc6402\", \"ngc6401\", \"ngc6426\", \"ngc6441\", \"ngc6453\", \"ngc6496\", \"ngc6517\", \"terzan10\", \"ngc6522\", \"ngc6535\", \"ngc6528\", \"ngc6539\", \"ngc6544\", \"ngc6541\", \"ngc6558\", \"terzan12\", \"ngc6569\", \"ngc6584\", \"ngc6624\", \"ngc6626\", \"ngc6638\", \"ngc6637\", \"ngc6652\", \"ngc6656\", \"pal8\", \"ngc6681\", \"ngc6712\", \"ngc6715\", \"ngc6717\", \"ngc6723\", \"terzan7\", \"pal10\", \"arp2\", \"ngc6809\", \"terzan8\", \"ngc6864\", \"ngc6934\", \"ngc7006\", \"ngc7089\", \"ngc7099\", \"pal12\", \"ngc7492\"]\n",
    "choices = [names.index(i) for i in name_choices]\n",
    "\n",
    "sc = ax.scatter(loga[:, -1][choices], eccen[:, -1][choices], marker='o', c='k')\n",
    "\n",
    "for i, txt in enumerate(name_choices):\n",
    "    plt.text(loga[choices[i], -1]+0.02, eccen[choices[i], -1]-0.02, txt, fontsize=6)\n",
    "\n",
    "for ind in choices:\n",
    "    ax.plot(loga[ind], eccen[ind], c='k')   \n",
    "    \n",
    "#     ax.arrow(loga[ind, -1], eccen[ind, -1], loga[ind, 0]-loga[ind, -1], eccen[ind, 0]-eccen[ind, -1],\n",
    "#              head_width=0.03, \n",
    "#              head_length=0.03, \n",
    "#              fc='k',\n",
    "#              ec='k',\n",
    "#              linewidth=0.7)   \n",
    "\n",
    "ax.set_xlabel(\"log(a)\")\n",
    "ax.set_ylabel(\"Eccentricity\")\n",
    "ax.set_title(\"Change in globular cluster orbit over 12 Gyr\")\n",
    "fig.savefig('eccen_loga.png')\n",
    "plt.show()"
   ]
  },
  {
   "cell_type": "markdown",
   "metadata": {},
   "source": [
    "# Plot SMA at start and end"
   ]
  },
  {
   "cell_type": "code",
   "execution_count": null,
   "metadata": {
    "collapsed": true
   },
   "outputs": [],
   "source": [
    "SMA = (rap+rperi)/2"
   ]
  },
  {
   "cell_type": "code",
   "execution_count": null,
   "metadata": {},
   "outputs": [],
   "source": [
    "fig, ax = plt.subplots()\n",
    "\n",
    "ax.plot(rap[:, 0], rap[:, -1], 'o')\n",
    "ax.set_xlabel(\"Apocentre at t=0\")\n",
    "ax.set_ylabel(\"Apocentre at t=-12\")\n",
    "ax.plot([0, 300], [0, 300], 'k--')\n",
    "plt.show()\n",
    "print(\"apo_12-apo_0\", sum(rap[:, -1]-rap[:, 0])) "
   ]
  },
  {
   "cell_type": "code",
   "execution_count": null,
   "metadata": {},
   "outputs": [],
   "source": [
    "fig, ax = plt.subplots()\n",
    "\n",
    "ax.plot(rperi[:, 0], rperi[:, -1], 'o')\n",
    "ax.set_xlabel(\"Pericentre_0\")\n",
    "ax.set_ylabel(\"Pericentre_f\")\n",
    "ax.plot([0, 140], [0, 140], 'k--')\n",
    "plt.show()\n",
    "print(\"peri_12-peri_0:\", sum(rperi[:, -1]-rperi[:, 0]))"
   ]
  },
  {
   "cell_type": "code",
   "execution_count": null,
   "metadata": {},
   "outputs": [],
   "source": [
    "fig, ax = plt.subplots()\n",
    "\n",
    "ax.plot(SMA[:, 0], SMA[:, -1], 'o')\n",
    "ax.set_xlabel(\"SMA_0\")\n",
    "ax.set_ylabel(\"SMA_f\")\n",
    "ax.plot([0, 175], [0, 175], 'k--')\n",
    "plt.show()\n",
    "print(\"SMA_12-SMA_0:\", sum(SMA[:, -1]-SMA[:, 0]))"
   ]
  },
  {
   "cell_type": "markdown",
   "metadata": {},
   "source": [
    "# Plot action angle coordinates for all clusters"
   ]
  },
  {
   "cell_type": "code",
   "execution_count": null,
   "metadata": {
    "scrolled": true
   },
   "outputs": [],
   "source": [
    "jr = os.jr(pot=MWPotential2014)\n",
    "jp = os.jp(pot=MWPotential2014)\n",
    "jz = os.jz(pot=MWPotential2014)"
   ]
  },
  {
   "cell_type": "code",
   "execution_count": null,
   "metadata": {},
   "outputs": [],
   "source": [
    "fig, ax = plt.subplots()\n",
    "for ind in range(len(jr)):\n",
    "    l = ax.plot(jp[ind], jr[ind])\n",
    "    ax.plot(jp[ind, 0], jr[ind, 0], 'o', color=l[0].get_color())\n",
    "\n",
    "ax.set_xlabel(\"$J_{\\phi}$\")\n",
    "ax.set_ylabel(\"$J_r$\")\n",
    "plt.show()"
   ]
  },
  {
   "cell_type": "code",
   "execution_count": null,
   "metadata": {},
   "outputs": [],
   "source": [
    "fig, ax = plt.subplots()\n",
    "for ind in range(len(jr)):\n",
    "    l = ax.plot(jz[ind], jr[ind])\n",
    "    ax.plot(jz[ind, 0], jr[ind, 0], 'o', color=l[0].get_color())\n",
    "\n",
    "ax.set_xlabel(\"$J_z$\")\n",
    "ax.set_ylabel(\"$J_r$\")\n",
    "plt.show()"
   ]
  },
  {
   "cell_type": "code",
   "execution_count": null,
   "metadata": {},
   "outputs": [],
   "source": [
    "fig, ax = plt.subplots()\n",
    "for ind in range(len(jr)):\n",
    "    l = ax.plot(jp[ind], jz[ind])\n",
    "    ax.plot(jp[ind, 0], jz[ind, 0], 'o', color=l[0].get_color())\n",
    "\n",
    "ax.set_xlabel(\"$J_{\\phi}$\")\n",
    "ax.set_ylabel(\"$J_z$\")\n",
    "plt.show()"
   ]
  }
 ],
 "metadata": {
  "kernelspec": {
   "display_name": "Python 3",
   "language": "python",
   "name": "python3"
  },
  "language_info": {
   "codemirror_mode": {
    "name": "ipython",
    "version": 3
   },
   "file_extension": ".py",
   "mimetype": "text/x-python",
   "name": "python",
   "nbconvert_exporter": "python",
   "pygments_lexer": "ipython3",
   "version": "3.6.2"
  }
 },
 "nbformat": 4,
 "nbformat_minor": 2
}
